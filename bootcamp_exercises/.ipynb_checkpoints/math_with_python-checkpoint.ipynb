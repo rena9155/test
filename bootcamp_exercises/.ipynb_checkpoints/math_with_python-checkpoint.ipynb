{
 "cells": [
  {
   "cell_type": "markdown",
   "metadata": {},
   "source": [
    "# Math with Python\n",
    "\n",
    "Let's use Python to solve some math questions."
   ]
  },
  {
   "cell_type": "markdown",
   "metadata": {},
   "source": [
    "## Exercise 1\n",
    "\n",
    "Create a null vector of size 10. (Hint: use numpy)"
   ]
  },
  {
   "cell_type": "code",
   "execution_count": null,
   "metadata": {},
   "outputs": [],
   "source": [
    "# your code here"
   ]
  },
  {
   "cell_type": "markdown",
   "metadata": {},
   "source": [
    "## Exercise 2\n",
    "\n",
    "Create a null vector of size 10 and set the fifth value to be 1."
   ]
  },
  {
   "cell_type": "code",
   "execution_count": null,
   "metadata": {},
   "outputs": [],
   "source": [
    "# your code here"
   ]
  },
  {
   "cell_type": "markdown",
   "metadata": {},
   "source": [
    "## Exercise 3\n",
    "\n",
    "Create a 8x8 matrix and fill it with a checkerboard pattern (1 and 0 in alternating order)."
   ]
  },
  {
   "cell_type": "code",
   "execution_count": null,
   "metadata": {},
   "outputs": [],
   "source": [
    "# your code here"
   ]
  },
  {
   "cell_type": "markdown",
   "metadata": {},
   "source": [
    "## Exercise 4\n",
    "\n",
    "Create a $5x5$ random matrix and normalize each column."
   ]
  },
  {
   "cell_type": "code",
   "execution_count": null,
   "metadata": {},
   "outputs": [],
   "source": [
    "# your code here"
   ]
  },
  {
   "cell_type": "markdown",
   "metadata": {},
   "source": [
    "## Exercise 5\n",
    "\n",
    "Multiply a $5x3$ matrix by a $3x2$ matrix (dot product)."
   ]
  },
  {
   "cell_type": "code",
   "execution_count": null,
   "metadata": {},
   "outputs": [],
   "source": [
    "# your code here"
   ]
  },
  {
   "cell_type": "markdown",
   "metadata": {},
   "source": [
    "## Exercise 6\n",
    "\n",
    "Find out if the vector represented by $(−16, 3, 5)$  is orthogonal to $a = (1, −3, 5)$ and $b = (2, −1, 7)$.\n",
    "\n",
    "\n"
   ]
  },
  {
   "cell_type": "code",
   "execution_count": null,
   "metadata": {},
   "outputs": [],
   "source": [
    "# your code here"
   ]
  },
  {
   "cell_type": "markdown",
   "metadata": {},
   "source": [
    "## Exercise 7\n",
    "\n",
    "Create the matrix $$\\begin{bmatrix} 1 & 5 & 2 \\\\ 2 & 3 & -1 \\\\ 0 & 1 & -5 \\end{bmatrix}$$\n",
    "\n",
    "and compute its determinant and inverse. (use numpy function)"
   ]
  },
  {
   "cell_type": "code",
   "execution_count": null,
   "metadata": {},
   "outputs": [],
   "source": [
    "# your code here"
   ]
  },
  {
   "cell_type": "markdown",
   "metadata": {},
   "source": [
    "## Exercise 8\n",
    "\n",
    "Given the two equations below, solve for $x_{1}$ and $x_{2}$ \n",
    "\n",
    "$x_{1} + 3x_{2} = 2$\n",
    "\n",
    "$x_{1} + 2x_{2} = 0$\n",
    "\n",
    "(Hint: Remember $AX = B$, use the linalg function from numpy)\n",
    "\n",
    "\n"
   ]
  },
  {
   "cell_type": "code",
   "execution_count": null,
   "metadata": {},
   "outputs": [],
   "source": [
    "# your code here"
   ]
  },
  {
   "cell_type": "markdown",
   "metadata": {},
   "source": [
    "## Exercise 9\n",
    "\n",
    "Find the critical points of the function $f(x)= x^3−2x^2+x$ and use the second derivative test to find the maximum on interval $x⊂[0,1]$. \n",
    "\n",
    "**Hint 1**: remember the concepts of first differentiation and second differentiation;\n",
    "\n",
    "**Hint 2**: `sympy` python library with use of `solve`, `diff`."
   ]
  },
  {
   "cell_type": "code",
   "execution_count": null,
   "metadata": {},
   "outputs": [],
   "source": [
    "# your code here"
   ]
  },
  {
   "cell_type": "markdown",
   "metadata": {},
   "source": [
    "## Exercise 10\n",
    "\n",
    "Maximise $f(x, y, z) = xy + yz$, subject to the constraints $x + 2y = 6$ and $x − 3z = 0$. \n",
    "\n",
    "**Hint 1**: set up the Lagrange equation, $f (x, y, z) − λ(constraint1) − μ(constraint2)$; \n",
    "\n",
    "**Hint 2**: Set partial derivatives to zero and solve the following set of equations; \n",
    "\n",
    "**Hint 3**: Use `solve`. "
   ]
  },
  {
   "cell_type": "code",
   "execution_count": null,
   "metadata": {},
   "outputs": [],
   "source": [
    "# your code here"
   ]
  }
 ],
 "metadata": {
  "kernelspec": {
   "display_name": "Python 3",
   "language": "python",
   "name": "python3"
  },
  "language_info": {
   "codemirror_mode": {
    "name": "ipython",
    "version": 3
   },
   "file_extension": ".py",
   "mimetype": "text/x-python",
   "name": "python",
   "nbconvert_exporter": "python",
   "pygments_lexer": "ipython3",
   "version": "3.7.6"
  },
  "pycharm": {
   "stem_cell": {
    "cell_type": "raw",
    "metadata": {
     "collapsed": false
    },
    "source": []
   }
  }
 },
 "nbformat": 4,
 "nbformat_minor": 4
}
