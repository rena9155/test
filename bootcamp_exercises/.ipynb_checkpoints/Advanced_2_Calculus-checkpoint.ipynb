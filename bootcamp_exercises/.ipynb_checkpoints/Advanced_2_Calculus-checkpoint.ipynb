{
 "cells": [
  {
   "cell_type": "markdown",
   "metadata": {},
   "source": [
    "<center><a target=\"_blank\" href=\"https://learning.constructor.org\"><img src=\"https://drive.google.com/uc?id=1McNxpNrSwfqu1w-QtlOmPSmfULvkkMQV\" width=\"200\" style=\"background:none; border:none; box-shadow:none;\" /></a> </center>\n",
    "\n",
    "_____\n",
    "\n",
    "<center> <h1> Calculus </h1> </center>\n",
    "\n",
    "<p style=\"margin-bottom:1cm;\"></p>\n",
    "\n",
    "_____\n",
    "\n",
    "<center>Constructor Learning, 2022</center>"
   ]
  },
  {
   "cell_type": "markdown",
   "metadata": {},
   "source": [
    "<center><a target=\"_blank\" ><img src=\"https://drive.google.com/uc?id=1o6BQk7O1hKLYzuS4MpYrV_B1VMDQhprb\" width=\"700\" style=\"background:none; border:none; box-shadow:none;\" /></a> </center>\n",
    "\n",
    "This notebook walks you through the derivation of some important rules for computing partial derivatives with respect to vectors, particularly those useful for training neural networks. "
   ]
  },
  {
   "cell_type": "markdown",
   "metadata": {},
   "source": [
    "### Contents"
   ]
  },
  {
   "cell_type": "markdown",
   "metadata": {},
   "source": [
    "1. Neural Network Intuition\n",
    "2. Scalar Derivative Rules\n",
    "    1. Derivatives in Python\n",
    "    2. Deriving the Sigmoid Function\n",
    "    3. Exercise: Deriving the tanh Function\n",
    "3. Vector Calculus and Partial Derivatives\n",
    "    1. Partial Derivatives\n",
    "    2. The Gradient\n",
    "    3. Real-World Application: The Gradient Descent Algorithm\n",
    "4. The Jacobian Matrix\n",
    "5. The Chain Rules\n",
    "    1. Single-Variable Chain Rule\n",
    "    2. Single-Variable Total Derivative Chain Rule\n",
    "    3. Vector Chain Rule"
   ]
  },
  {
   "cell_type": "markdown",
   "metadata": {},
   "source": [
    "### 1. Neural Network Intuition"
   ]
  },
  {
   "cell_type": "markdown",
   "metadata": {},
   "source": [
    "As mentioned above, multivariate calculus is the basis of all deep learning algorithms. Thus, it is useful to have an intuition of how neural networks work in order to relate theory with practice.\n",
    "\n",
    "This video conveys the rough ideas behind neural networks with a real world example: https://www.youtube.com/watch?v=aircAruvnKk&t=4s.  \n",
    "\n",
    "If you are overwhelmed by the amount of information in these 15 minutes, don't worry. These concepts will be covered in-depth during the course. The idea is only to get your feet wet and make it possible for you to understand why the following mathematical concepts are fundamental. This knowledge will come in handy when reading papers, which is key to keep up-to-date in this fast-moving field. "
   ]
  },
  {
   "cell_type": "markdown",
   "metadata": {},
   "source": [
    "### 2. Scalar Derivative Rules"
   ]
  },
  {
   "cell_type": "markdown",
   "metadata": {},
   "source": [
    "In the table below, there is a quick review of the most important derivative rules for single variable calculus relevant to the content of this notebook.   \n",
    "\n",
    "If you are a bit shaky on these concepts, feel free to watch the series from Khan Academy to jog your memory: https://www.khanacademy.org/math/old-ap-calculus-ab/ab-derivative-rules. \n",
    "\n",
    "*Remark: Do not spend too much time on revising calculus that is not closely related to the topics that are presented in this notebook. Make sure to focus most of your attention on the presented content.*"
   ]
  },
  {
   "cell_type": "markdown",
   "metadata": {},
   "source": [
    "|Rule|f(x)|Derivative notation|Example|\n",
    "|----|----|----|----|\n",
    "|**Constant**|$$c$$|$$0$$|\\begin{equation}\\frac{d}{d x} 99=0\\end{equation}|\n",
    "|**Multiplication by constant**|$$cf$$|\\begin{equation}c \\frac{d f}{d x}\\end{equation}|$$\\frac{d}{d x} 3 x=3$$|\n",
    "|**Power Rule**|$$x^n$$|$$nx^{n-1}$$|$$\\frac{d}{d x} x^{3}=3 x^{2}$$|\n",
    "|**Sum Rule**|$$f+g$$|$$\\frac{d f}{d x}+\\frac{d g}{d x}$$|$$\\frac{d}{d x}\\left(x^{2}+3 x\\right)=2 x+3$$|\n",
    "|**Difference Rule**|$$f-g$$|$$\\frac{d f}{d x}-\\frac{d g}{d x}$$|$$\\frac{d}{d x}\\left(x^{2}-3 x\\right)=2 x-3$$|\n",
    "|**Product Rule**|$$fg$$|$$f \\frac{d g}{d x}+\\frac{d f}{d x} g$$|$$\\frac{d}{d x} x^{2} x=x^{2}+x 2 x=3 x^{2}$$|\n",
    "|**Chain Rule**|$$f(g(x))$$|$$\\frac{d f(u)}{d u} \\frac{d u}{d x}, \\text { let } u=g(x)$$|$$\\frac{d}{d x} \\ln \\left(x^{2}\\right)=\\frac{1}{x^{2}} 2 x=\\frac{2}{x}$$|"
   ]
  },
  {
   "cell_type": "markdown",
   "metadata": {},
   "source": [
    "#### 2.1. Real-World Application: Derivatives with Python"
   ]
  },
  {
   "cell_type": "markdown",
   "metadata": {},
   "source": [
    "Parameters of the derivative function implemented in SciPy: https://docs.scipy.org/doc/scipy-0.15.1/reference/generated/scipy.misc.derivative.html"
   ]
  },
  {
   "cell_type": "code",
   "execution_count": 1,
   "metadata": {},
   "outputs": [],
   "source": [
    "import numpy as np\n",
    "from scipy.misc import derivative\n",
    "from matplotlib import pyplot as plt\n",
    "%matplotlib inline"
   ]
  },
  {
   "cell_type": "markdown",
   "metadata": {},
   "source": [
    "#### 2.2. Deriving the Sigmoid function"
   ]
  },
  {
   "cell_type": "markdown",
   "metadata": {},
   "source": [
    "Neural network activation functions are a crucial component of deep learning. Activation functions determine the output of a deep learning model, its accuracy, and also the computational efficiency of training a model — which can make or break a large scale neural network.\n",
    "\n",
    "One of the most famous activation functions is the sigmoid. It takes a real-valued number and “squashes” it into range between 0 and 1. In particular, large negative numbers become 0 and large positive numbers become 1. \n",
    "\n",
    "$$\n",
    "S(x)=\\frac{1}{1+e^{-x}}\n",
    "$$"
   ]
  },
  {
   "cell_type": "code",
   "execution_count": 2,
   "metadata": {},
   "outputs": [
    {
     "data": {
      "image/png": "[encoded data removed]",
      "text/plain": [
       "<Figure size 432x288 with 1 Axes>"
      ]
     },
     "metadata": {
      "needs_background": "light"
     },
     "output_type": "display_data"
    }
   ],
   "source": [
    "# Define the function\n",
    "def sigmoid(x):\n",
    "    return 1 / (1 + np.exp(-x))\n",
    "    \n",
    "# Create a NumPy array on which to apply to sigmoid function\n",
    "x = np.arange(-6,6,0.1)\n",
    "\n",
    "# Applying the sigmoid function\n",
    "sig_x = sigmoid(x)\n",
    "\n",
    "# Plotting the sigmoid function\n",
    "plt.plot(x, sig_x, linestyle = '-')\n",
    "\n",
    "# Applying the derivative of the sigmoid function on x\n",
    "d_sigmoid = derivative(sigmoid, x)\n",
    "\n",
    "# Plotting the derivative\n",
    "plt.plot(x, d_sigmoid, linestyle = '--', color = 'red')\n",
    "\n",
    "# Customize Plot\n",
    "plt.grid(True, lw = 1, ls = '--', c = '.5')\n",
    "plt.xticks(np.arange(-6, 7, step=1))\n",
    "plt.yticks(np.arange(0, 1.25, step=0.25))\n",
    "plt.xlabel('x')\n",
    "plt.ylabel('sigmoid(x)')\n",
    "plt.legend(labels=['Sigmoid', 'Derivative'], fontsize=12)\n",
    "plt.title('Sigmoid Function & Derivative', fontdict={'fontsize': 14})\n",
    "None"
   ]
  },
  {
   "cell_type": "markdown",
   "metadata": {},
   "source": [
    "#### 2.3. Exercise: Deriving the tanh function"
   ]
  },
  {
   "cell_type": "markdown",
   "metadata": {},
   "source": [
    "The tanh function squashes a real-valued number to the range [-1, 1]. It’s non-linear. But unlike the sigmoid function, its output is zero-centered.\n",
    "\n",
    "$$\n",
    "\\tanh x=\\frac{e^{x}-e^{-x}}{e^{x}+e^{-x}}\n",
    "$$\n",
    "\n",
    "Implement the tanh in Python, and visualize the function as well as its derivative. Fill in the missing code (all \"None\" statements) in the cell below. "
   ]
  },
  {
   "cell_type": "code",
   "execution_count": 3,
   "metadata": {},
   "outputs": [
    {
     "data": {
      "image/png": "[encoded data removed]",
      "text/plain": [
       "<Figure size 432x288 with 1 Axes>"
      ]
     },
     "metadata": {
      "needs_background": "light"
     },
     "output_type": "display_data"
    }
   ],
   "source": [
    "# Define the function\n",
    "def tanh(x):\n",
    "    return ((np.exp(x)-np.exp(-x)) / (np.exp(x)+np.exp(-x)))\n",
    "    \n",
    "# Create a NumPy array on which to apply to sigmoid function\n",
    "x = np.arange(-6,6,0.1)\n",
    "\n",
    "# Applying the tanh function\n",
    "tanh_x = tanh(x)\n",
    "\n",
    "# Plotting the tanh function\n",
    "plt.plot(x, tanh_x, linestyle = '-')\n",
    "\n",
    "# Applying the derivative of the tanh function on x\n",
    "d_tanh = derivative(tanh, x, dx=1e-6)\n",
    "\n",
    "# Plotting the derivative\n",
    "plt.plot(x, d_tanh, linestyle = '--', color = 'red')\n",
    "\n",
    "# Customize Plot\n",
    "plt.grid(True, lw = 1, ls = '--', c = '.5')\n",
    "plt.xticks(np.arange(-6, 7, step=1))\n",
    "#plt.yticks(np.arange(0, 1.25, step=0.25))\n",
    "plt.xlabel('x')\n",
    "plt.ylabel('tanh(x)')\n",
    "plt.legend(labels=['tanH', 'Derivative'], fontsize=12)\n",
    "plt.title('tanH Function & Derivative', fontdict={'fontsize': 14})\n",
    "None # do not replace this statement"
   ]
  },
  {
   "cell_type": "markdown",
   "metadata": {},
   "source": [
    "### 3. Vector Calculus and Partial Derivatives"
   ]
  },
  {
   "cell_type": "markdown",
   "metadata": {},
   "source": [
    "Neural network layers are not single functions of a single parameter, $f(x)$. So, let's move on to functions of multiple parameters such as $f(x, y)$. "
   ]
  },
  {
   "cell_type": "markdown",
   "metadata": {},
   "source": [
    "#### 3.1. Partial Derivatives"
   ]
  },
  {
   "cell_type": "markdown",
   "metadata": {},
   "source": [
    "For example, what is the derivative of $xy$ (i.e., the multiplication of $x$ and $y$)? In other words, how does the product $xy$ change when we wiggle the variables? Well, it depends on whether we are changing $x$ or $y$. We compute derivatives with respect to one variable (parameter) at a time, giving us two different partial derivatives for this two-parameter function (one for $x$ and one for $y$). \n",
    "\n",
    "The partial derivative with respect to $x$ is just the usual scalar derivative, simply treating any other variable in the equation as a constant. "
   ]
  },
  {
   "cell_type": "markdown",
   "metadata": {},
   "source": [
    "$$\n",
    "\\textrm{Function: } f(x, y)=3 x^{2} y \\\\\n",
    "\\textrm{Derivative in respect to x: }\\frac{\\partial}{\\partial x} 3 y x^{2}=3 y \\frac{\\partial}{\\partial x} x^{2}=3 y 2 x=6 y x \\\\\n",
    "\\textrm{Derivative in respect to x: }\\frac{\\partial}{\\partial y} 3 x^{2} y=3 x^{2} \\frac{\\partial}{\\partial y} y=3 x^{2} \\frac{\\partial y}{\\partial y}=3 x^{2} \\times 1=3 x^{2}\n",
    "$$  "
   ]
  },
  {
   "cell_type": "markdown",
   "metadata": {},
   "source": [
    "If you need some help, check out this article: https://bit.ly/2iDlDZt"
   ]
  },
  {
   "cell_type": "markdown",
   "metadata": {},
   "source": [
    "#### 3.2. The Gradient"
   ]
  },
  {
   "cell_type": "markdown",
   "metadata": {},
   "source": [
    "After learning that functions with a multidimensional input have partial derivatives, you might wonder what the full derivative of such a function is. In the case of scalar-valued multivariable functions, meaning those with a multidimensional input but a one-dimensional output, the answer is the gradient.\n",
    "\n",
    "The gradient of a function $f$, denoted as $∇f$, is the collection of all its partial derivatives into a vector. Following the example above, the gradient of $f(x, y)=3x^{2}y$ is:\n",
    "\n",
    "$$\n",
    "\\nabla f(x, y)=\\left[\\frac{\\partial f(x, y)}{\\partial x}, \\frac{\\partial f(x, y)}{\\partial y}\\right]=\\left[6 y x, 3 x^{2}\\right]\n",
    "$$"
   ]
  },
  {
   "cell_type": "markdown",
   "metadata": {},
   "source": [
    "The (graphical) interpretation of the gradient is a key concept in order to understand the optimization process of neural networks. Take the time to watch this 6 minute long video on why the gradient can be thought of as pointing in the \"direction of steepest ascent\": https://www.youtube.com/watch?v=_-02ze7tf08\n",
    "\n",
    "----\n",
    "*Optional video: relating the way gradients are computed with its interpretation*: https://www.youtube.com/watch?v=TEB2z7ZlRAw"
   ]
  },
  {
   "cell_type": "markdown",
   "metadata": {},
   "source": [
    "----\n",
    "#### 3.3. Real World Application: The Gradient Descent Algorithm"
   ]
  },
  {
   "cell_type": "markdown",
   "metadata": {},
   "source": [
    "Gradient Descent is an optimization algorithm that helps machine learning models converge at a minimum value through repeated steps. Essentially, gradient descent is used to minimize a function by finding the value that gives the lowest output of that function. Often times, this function is a loss function. Loss functions measure how bad our model performs compared to actual occurrences (measuring the difference between your prediction and reality). Hence, it only makes sense that we should reduce this loss. One way to do this is via Gradient Descent.\n",
    "\n",
    "<u>Steps of the Gradient Descent Algorithm</u>\n",
    "1. Obtain a function to minimize $f(x)$\n",
    "2. Initialize a value x from which to start the descent or optimization from\n",
    "3. Specifiy a learning rate that will determine how much of a step to descend by\n",
    "4. Obtain the derivative of that value x (the descent)\n",
    "5. Proceed to descend by the derivative of that value multiplied by the learning rate\n",
    "6. Update the value of x with the new value descended to\n",
    "7. Check your stop condition to see whether to stop\n",
    "8. If condition is satisfied, stop. If not, proceed to step 4 with new x value and keep repeating the algorithm."
   ]
  },
  {
   "cell_type": "markdown",
   "metadata": {},
   "source": [
    "#### 3.4. Implementing Gradient Descent in Python"
   ]
  },
  {
   "cell_type": "markdown",
   "metadata": {},
   "source": [
    "\n",
    "<u>Function to optimize</u> \n",
    "\n",
    "$f(x)=x^{3}-3 x^{2}+7$"
   ]
  },
  {
   "cell_type": "code",
   "execution_count": 4,
   "metadata": {},
   "outputs": [],
   "source": [
    "function = lambda x: (x ** 3)-(3 *(x ** 2)) + 7"
   ]
  },
  {
   "cell_type": "markdown",
   "metadata": {},
   "source": [
    "-------\n",
    "Side Note on lambda functions:  \n",
    "- In Python, we use the lambda keyword to declare an anonymous function, which is why we refer to them as \"lambda functions\". An anonymous function refers to a function declared with no name. Although syntactically they look different, lambda functions behave in the same way as regular functions that are declared using the def keyword.\n",
    "- For more information, visit https://stackabuse.com/lambda-functions-in-python/\n",
    "-------"
   ]
  },
  {
   "cell_type": "markdown",
   "metadata": {},
   "source": [
    "<u>Visualizing the function</u>"
   ]
  },
  {
   "cell_type": "code",
   "execution_count": 5,
   "metadata": {},
   "outputs": [
    {
     "data": {
      "image/png": "[encoded data removed]",
      "text/plain": [
       "<Figure size 432x288 with 1 Axes>"
      ]
     },
     "metadata": {
      "needs_background": "light"
     },
     "output_type": "display_data"
    }
   ],
   "source": [
    "# Create 1000 evenly spaced numbers\n",
    "x = np.linspace(-1,3,500)\n",
    "\n",
    "# Plot the curve\n",
    "plt.plot(x, function(x))\n",
    "None"
   ]
  },
  {
   "cell_type": "markdown",
   "metadata": {},
   "source": [
    "<u>The specific derivative function</u>"
   ]
  },
  {
   "cell_type": "code",
   "execution_count": 6,
   "metadata": {},
   "outputs": [],
   "source": [
    "def deriv(x):\n",
    "    \"\"\"\n",
    "    This function takes in a value of x and returns its derivate based on the function defined above.\n",
    "    \"\"\"\n",
    "    \n",
    "    x_deriv = 3 * (x**2) - (6*(x))\n",
    "    \n",
    "    return x_deriv"
   ]
  },
  {
   "cell_type": "markdown",
   "metadata": {},
   "source": [
    "<u>The step function</u> \n",
    "\n",
    "As we have seen before, the gradient of a function can be interpreted as a hiker's most direct way to the top of a mountain. If you reverse that, it is also the optimal way down to the valley floor. In the derivative function above, we obtained the gradient or the optimal way down from where the hiker stands **right now** (technically you use the negative gradient, as you want to go down, not up).  Now, we have to decide for how long we want to follow that direction before looking at the hiking map again (e.g. recalculating the gradient) to adjust the direction we are walking in. Remember, if the hiker changes his position, so does the optimal way down the mountain and thus the gradient.\n",
    "\n",
    "In order to do this, we have to define two things: \n",
    "- how large of a *step* we should take before recalibrating the direction, called the *learning rate*\n",
    "- formulate a *condition*, if we should stop walking (e.g. check, if we arrived at the desired destination). Don't pay attention to the specific condition used here, as it is not a relevant method in deep learning. Generally in neural networks, the iterative process is stopped after taking a pre-defined number of steps.\n",
    "-----\n",
    "*Remark: Don't worry if you don't fully understand the code below. The important thing is that you get a sense of the concept and understand the individual steps of the algorithm.*"
   ]
  },
  {
   "cell_type": "code",
   "execution_count": 7,
   "metadata": {},
   "outputs": [],
   "source": [
    "def step(x_new, precision, l_r):\n",
    "    \n",
    "    '''\n",
    "    Description: This function takes in an initial or previous value for x, updates it based on \n",
    "    steps taken via the learning rate and outputs the most minimum value of x that reaches the precision satisfaction.\n",
    "    \n",
    "    Arguments:\n",
    "    \n",
    "    x_new - a starting value of x that will get updated based on the learning rate\n",
    "    \n",
    "    x_prev - the previous value of x that is getting updated to the new one\n",
    "    \n",
    "    precision - a precision that determines the stop of the stepwise descent \n",
    "    \n",
    "    l_r - the learning rate (size of each descent step)\n",
    "    \n",
    "    Output:\n",
    "    \n",
    "    1. Prints out the latest new value of x which equates to the minimum we are looking for\n",
    "    2. Prints out the the number of x values which equates to the number of gradient descent steps\n",
    "    3. Plots a first graph of the function with the gradient descent path\n",
    "    4. Plots a second graph of the function with a zoomed in gradient descent path in the important area\n",
    "    \n",
    "    '''\n",
    "    \n",
    "    # create empty lists where the updated values of x and y wil be appended during each iteration\n",
    "    \n",
    "    x_list, y_list = [x_new], [function(x_new)]\n",
    "    # keep looping until your desired precision\n",
    "    diffIsTooHigh = True\n",
    "    while diffIsTooHigh:\n",
    "        \n",
    "        # change the value of x\n",
    "        x_prev = x_new\n",
    "        \n",
    "        # get the derivation of the old value of x\n",
    "        d_x = - deriv(x_prev)\n",
    "        \n",
    "        # get your new value of x by adding the previous, the multiplication of the derivative and the learning rate\n",
    "        x_new = x_prev + (l_r * d_x)\n",
    "        \n",
    "        # append the new value of x to a list of all x-s for later visualization of path\n",
    "        x_list.append(x_new)\n",
    "        \n",
    "        # append the new value of y to a list of all y-s for later visualization of path\n",
    "        y_list.append(function(x_new))\n",
    "        \n",
    "        # test condition\n",
    "        diffIsTooHigh = abs(x_new - x_prev) > precision\n",
    "\n",
    "    print (\"Local minimum occurs at: \" + str(x_new))\n",
    "    print (\"Number of steps: \" + str(len(x_list)))\n",
    "    \n",
    "    plt.subplots(1,2,figsize=(25,10))\n",
    "    \n",
    "    plt.subplot(1,2,1)\n",
    "    plt.scatter(x_list,y_list,c=\"g\")\n",
    "    plt.plot(x_list,y_list,c=\"g\")\n",
    "    plt.plot(x,function(x), c=\"r\")\n",
    "    plt.title(\"Gradient descent\")\n",
    "\n",
    "    plt.subplot(1,2,2)\n",
    "    plt.scatter(x_list,y_list,c=\"g\")\n",
    "    plt.plot(x_list,y_list,c=\"g\")\n",
    "    plt.plot(x,function(x), c=\"r\")\n",
    "    plt.xlim([1.0,2.1])\n",
    "    plt.title(\"Zoomed in Gradient descent to Key Area\")\n",
    "    plt.show()"
   ]
  },
  {
   "cell_type": "markdown",
   "metadata": {},
   "source": [
    "<u>Implementing Gradient Descent</u>"
   ]
  },
  {
   "cell_type": "code",
   "execution_count": 8,
   "metadata": {},
   "outputs": [
    {
     "name": "stdout",
     "output_type": "stream",
     "text": [
      "Local minimum occurs at: 1.9980265135950486\n",
      "Number of steps: 25\n"
     ]
    },
    {
     "data": {
      "image/png": "[encoded data removed]",
      "text/plain": [
       "<Figure size 1800x720 with 2 Axes>"
      ]
     },
     "metadata": {
      "needs_background": "light"
     },
     "output_type": "display_data"
    }
   ],
   "source": [
    "step(0.5, 0.001, 0.05)"
   ]
  },
  {
   "cell_type": "markdown",
   "metadata": {},
   "source": [
    "**Exercise: The Learning Rate**"
   ]
  },
  {
   "cell_type": "markdown",
   "metadata": {},
   "source": [
    "Adjust the learning rate (the last parameter of the function, right now 0.05) in the cell above and rerun the algorithm. What happens when you increase the learning rate? If you decrease it?\n",
    "\n",
    "Write down your observations in the cell below."
   ]
  },
  {
   "cell_type": "markdown",
   "metadata": {},
   "source": [
    "### 4. The Jacobian Matrix"
   ]
  },
  {
   "cell_type": "markdown",
   "metadata": {},
   "source": [
    "When we move from derivatives of one function to derivatives of many functions, we move from the world of vector calculus to matrix calculus.\n",
    "\n",
    "Gradient vectors organize all of the partial derivatives for a specific scalar function. If we have two functions, we can also organize their gradients into a matrix by stacking the gradients. \n",
    "$$\n",
    "f(x, y)=3 x^{2} y \\\\\n",
    "g(x, y)=2 x+y^{8}\n",
    "$$"
   ]
  },
  {
   "cell_type": "markdown",
   "metadata": {},
   "source": [
    "When we do so, we get the Jacobian matrix (or just the Jacobian) where the gradients are rows:\n",
    "\n",
    "$$\n",
    "J=\\left[ \\begin{array}{c}{\\nabla f(x, y)} \\\\ {\\nabla g(x, y)}\\end{array}\\right]=\\left[ \\begin{array}{ll}{\\frac{\\partial f(x, y)}{\\partial x}} & {\\frac{\\partial f(x, y)}{\\partial y}} \\\\ {\\frac{\\partial g(x, y)}{\\partial x}} & {\\frac{\\partial g(x, y)}{\\partial y}}\\end{array}\\right]=\\left[ \\begin{array}{cc}{6 y x} & {3 x^{2}} \\\\ {2} & {8 y^{7}}\\end{array}\\right]\n",
    "$$"
   ]
  },
  {
   "cell_type": "markdown",
   "metadata": {},
   "source": [
    "So far, we've looked at a specific example of a Jacobian matrix. To define the Jacobian matrix more generally, let's combine multiple parameters into a single vector argument: $f(x, y, z) \\Rightarrow f(\\mathbf{x})$.  \n",
    "\n",
    "Lowercase letters in bold font such as $\\mathbf{x}$ are vectors and those in italics font like $x$ are scalars. $x_{i}$ is the $i^{th}$ element of vector $x$ and is in italics because a single vector element is a scalar.\n",
    "\n",
    "We also have to define an orientation for vector $\\mathbf{x}$. We'll assume that all vectors are vertical by default of size $n\\times1$:\n",
    "\n",
    "$$\n",
    "\\mathbf{x}=\\left[ \\begin{array}{c}{x_{1}} \\\\ {x_{2}} \\\\ {\\vdots} \\\\ {x_{n}}\\end{array}\\right]\n",
    "$$  \n",
    "\n",
    "With multiple scalar-valued functions, we can combine them all into a vector just like we did with the parameters. Let $y = f(x)$ be a vector of $m$ scalar-valued functions that each take a vector $\\mathbf{x}$ of length $n=|\\mathbf{x}|$  where $\\mathbf{x}$ is the cardinality (count) of elements in $x$. Each $f_{i}$ function within $\\mathbf{f}$ returns a scalar."
   ]
  },
  {
   "cell_type": "markdown",
   "metadata": {},
   "source": [
    "For instance, we'd represent $f(x,y) = 3x^{2}$ and $g(x,y) = 2x + y^{8}$ like shown below, substituting $x_{1}$ for $x$ and $x_{2}$ for $y$: \n",
    "\n",
    "$$\n",
    "\\begin{array}{l}{y_{1}=f_{1}(\\mathbf{x})=3 x_{1}^{2} x_{2}} \\\\ {y_{2}=f_{2}(\\mathbf{x})=2 x_{1}+x_{2}^{8}}\\end{array}\n",
    "$$"
   ]
  },
  {
   "cell_type": "markdown",
   "metadata": {},
   "source": [
    "Generally speaking, the Jacobian matrix is the collection of all $m\\times{n}$ possible partial derivatives ($m$ rows and $n$ columns), which is the stack of $m$ gradients with respect to $\\mathbf{x}$:  \n",
    "\n",
    "$$\n",
    "\\frac{\\partial \\mathbf{y}}{\\partial \\mathbf{x}}=\\left[ \\begin{array}{c}{\\nabla f_{1}(\\mathbf{x})} \\\\ {\\nabla f_{2}(\\mathbf{x})} \\\\ {\\cdots} \\\\ {\\nabla f_{m}(\\mathbf{x})}\\end{array}\\right]=\\left[ \\begin{array}{c}{\\frac{\\partial}{\\partial \\mathbf{x}} f_{1}(\\mathbf{x})} \\\\ {\\frac{\\partial}{\\partial \\mathbf{x}} f_{2}(\\mathbf{x})} \\\\ {\\cdots} \\\\ {\\frac{\\partial}{\\partial \\mathbf{x}} f_{m}(\\mathbf{x})}\\end{array}\\right]=\\left[ \\begin{array}{c}{\\frac{\\partial}{\\partial x_{1}} f_{1}(\\mathbf{x}) \\frac{\\partial}{\\partial x_{2}} f_{1}(\\mathbf{x}) \\ldots \\frac{\\partial}{\\partial x_{n}} f_{1}(\\mathbf{x})} \\\\ {\\frac{\\partial}{\\partial x_{1}} f_{2}(\\mathbf{x}) \\frac{\\partial}{\\partial x_{2}} f_{2}(\\mathbf{x}) \\ldots . \\frac{\\partial}{\\partial x_{n}} f_{2}(\\mathbf{x})} \\\\ {\\ldots} \\\\ {\\frac{\\partial}{\\partial x_{1}} f_{m}(\\mathbf{x}) \\frac{\\partial}{\\partial x_{2}} f_{m}(\\mathbf{x}) \\ldots \\frac{\\partial}{\\partial x_{n}} f_{m}(\\mathbf{x})}\\end{array}\\right]\n",
    "$$\n",
    "\n",
    "  \n",
    "Another explanation of the Jacobian can be found here: https://www.youtube.com/watch?v=wCZ1VEmVjVo"
   ]
  },
  {
   "cell_type": "markdown",
   "metadata": {},
   "source": [
    "### 5. The Chain Rules"
   ]
  },
  {
   "cell_type": "markdown",
   "metadata": {},
   "source": [
    "We can't compute partial derivatives of very complicated functions using just the basic matrix calculus rules we've seen so far. For example, we can't take the derivative of nested expressions like  directly without reducing it to its scalar equivalent. We need to be able to combine our basic vector rules using what we can call the vector chain rule. "
   ]
  },
  {
   "cell_type": "markdown",
   "metadata": {},
   "source": [
    "#### 5.1. Single-Variable Chain Rule"
   ]
  },
  {
   "cell_type": "markdown",
   "metadata": {},
   "source": [
    "The chain rule is conceptually a divide and conquer strategy (like Quicksort) that breaks complicated expressions into subexpressions whose derivatives are easier to compute. Its power derives from the fact that we can process each simple subexpression in isolation yet still combine the intermediate results to get the correct overall result.\n",
    "\n",
    "**Function to derive:**\n",
    "\n",
    "$$\n",
    "f(g(x))\n",
    "$$\n",
    "\n",
    "**Formula:**\n",
    "\n",
    "$$\n",
    "\\frac{d y}{d x}=\\frac{d y}{d u} \\frac{d u}{d x}\\;with\\;u=g(x)\n",
    "$$\n",
    "\n",
    "**Steps:**\n",
    "1. Introduce intermediate variables for subexpressions.\n",
    "2. Compute derivatives.\n",
    "3. Combine all derivatives of intermediate variables by multiplying them together.\n",
    "4. Substitute intermediate variables back in.\n",
    "\n",
    "For a review of the single-variable chain rule and some interactive exercises, visit this site: https://bit.ly/2vKmhbq"
   ]
  },
  {
   "cell_type": "markdown",
   "metadata": {},
   "source": [
    "#### 5.2. Single-Variable Total Derivative Chain Rule"
   ]
  },
  {
   "cell_type": "markdown",
   "metadata": {},
   "source": [
    "Our single-variable chain rule has limited applicability because all intermediate variables must be functions of single variables. To handle more general expressions such as $y=f(x)=x+x^{2}$, however, we need to augment that basic chain rule. \n",
    "\n",
    "If we tried to apply the single-variable chain rule, we'd get the wrong answer. In fact, the previous chain rule is meaningless in this case because derivative operator $\\frac{d}{d x}$ does not apply to multivariate functions, such as $u_{2}$ among our intermediate variables:\n",
    "\n",
    "$$\n",
    "\\begin{array}{l}{u_{1}(x)=x^{2}} \\\\ {u_{2}\\left(x, u_{1}\\right)=x+u_{1} \\quad \\quad\\left(y=f(x)=u_{2}\\left(x, u_{1}\\right)\\right)}\\end{array}\n",
    "$$\n",
    "\n",
    "Because $u_{2}(x, u)=x+u_{1}$ has multiple parameters, partial derivatives come into play. Let's blindly apply the partial derivative operator to all of our equations and see what we get:\n",
    "\n",
    "$$\n",
    "\\begin{aligned} \\frac{\\partial u_{1}(x)}{\\partial x} &=2 x \\\\ \\frac{\\partial u_{2}\\left(x, u_{1}\\right)}{\\partial u_{1}} &=\\frac{\\partial}{\\partial u_{1}}\\left(x+u_{1}\\right)=0+1=1 \\\\ \\frac{\\partial u_{2}\\left(x, u_{1}\\right)}{\\partial x} & = \\frac{\\partial}{\\partial x}\\left(x+u_{1}\\right)=1+0=1 \\end{aligned}\n",
    "$$\n",
    "\n",
    "The partial $\\frac{\\partial u_{2}\\left(x, u_{1}\\right)}{\\partial x}$ is wrong because it violates a key assumption for partial derivatives. When taking the partial derivative with respect to $x$, the other variables must not vary as $x$ varies. Otherwise, we could not act as if the other variables were constants. \n",
    "\n",
    "If we apply the chaine rule from above we would get $2x$ instead of the right answer $1+2x$:\n",
    "\n",
    "$$\n",
    "\\frac{d u_{2}}{d u_{1}}=0+1=1\n",
    "$$\n",
    "\n",
    "$$\n",
    "\\frac{d u_{1}}{d x}=2 x\n",
    "$$\n",
    "\n",
    "$$\n",
    "\\frac{d y}{d x}=\\frac{d u_{2}}{d x}=\\frac{d u_{2}}{d u_{1}} \\frac{d u_{1}}{d x}=2 x\n",
    "$$\n",
    "\n",
    "This problem can be solved with the \"law\" of total derivatives, which basically says that to compute $\\frac{d y}{d x}$, we need to sum up all possible contributions from changes in $x$ to the change in $y$:\n",
    "\n",
    "$$\n",
    "\\frac{\\partial f\\left(u_{1}, \\ldots, u_{n+1}\\right)}{\\partial x}=\\sum_{i=1}^{n+1} \\frac{\\partial f}{\\partial u_{i}} \\frac{\\partial u_{i}}{\\partial x}\n",
    "$$\n",
    "\n",
    "Using this formula, we get the proper answer:\n",
    "\n",
    "$$\n",
    "\\frac{d y}{d x}=\\frac{\\partial f(x)}{\\partial x}=\\frac{\\partial u_{2}}{\\partial x}+\\frac{\\partial u_{2}}{\\partial u_{1}} \\frac{\\partial u_{1}}{\\partial x}=1+1 \\times 2 x=1+2 x\n",
    "$$\n",
    "\n",
    "The total derivative assumes all variables are potentially codependent whereas the partial derivative assumes all variables but x are constants. In practice, just keep in mind that when you take the total derivative with respect to x, other variables might also be functions of x so add in their contributions as well. "
   ]
  },
  {
   "cell_type": "markdown",
   "metadata": {},
   "source": [
    "#### 5.3. Vector Chain Rule"
   ]
  },
  {
   "cell_type": "markdown",
   "metadata": {},
   "source": [
    "<u>Using Scalar Operations</u>  \n",
    "\n",
    "$$\n",
    "Sample\\:vector\\:function: \\;\\;\\mathbf{y}=\\mathbf{f}(x):\\;\\;\\;\\left[ \\begin{array}{l}{y_{1}(x)} \\\\ {y_{2}(x)}\\end{array}\\right]=\\left[ \\begin{array}{l}{f_{1}(x)} \\\\ {f_{2}(x)}\\end{array}\\right]=\\left[ \\begin{array}{c}{\\ln \\left(x^{2}\\right)} \\\\ {\\sin (3 x)}\\end{array}\\right]\n",
    "$$\n",
    "\n",
    "$$\n",
    "Introducing\\:intermediate\\:variables: \\;\\;\\mathbf{y}=\\mathbf{f}(\\mathbf{g}(x)):\\;\\;\\;\\left[ \\begin{array}{l}{g_{1}(x)} \\\\ {g_{2}(x)}\\end{array}\\right]=\\left[ \\begin{array}{l}{x^{2}} \\\\ {3 x}\\end{array}\\right]\\;\\;\\;and\\;\\;\\;\\left[ \\begin{array}{l}{f_{1}(\\mathbf{g})} \\\\ {f_{2}(\\mathbf{g})}\\end{array}\\right]=\\left[ \\begin{array}{l}{\\ln \\left(g_{1}\\right)} \\\\ {\\sin \\left(g_{2}\\right)}\\end{array}\\right]\n",
    "$$\n",
    "\n",
    "The derivative of vector $\\mathbf{y}$ with respect to scalar $x$ is a vertical vector with elements computed using the single-variable total-derivative chain rule:\n",
    "\n",
    "$$\n",
    "The\\:derivative: \\;\\;\\frac{\\partial \\mathbf{y}}{\\partial x}=\\left[ \\begin{array}{l}{\\frac{\\partial f_{1}(\\mathbf{g})}{\\partial x}} \\\\ {\\frac{\\partial f_{2}}{\\partial x}}\\end{array}\\right]=\\left[ \\begin{array}{c}{\\frac{\\partial f_{1}}{\\partial g_{1}} \\frac{\\partial g_{1}}{\\partial x}+\\frac{\\partial f_{1}}{\\partial g_{2}} \\frac{\\partial g_{2}}{\\partial x}} \\\\ {\\frac{\\partial f_{2}}{\\partial g_{1}} \\frac{\\partial g_{1}}{\\partial x}+\\frac{\\partial f_{2}}{\\partial g_{2}} \\frac{\\partial g_{2}}{\\partial x}}\\end{array}\\right]=\\left[ \\begin{array}{c}{\\frac{1}{g_{1}} 2 x+0} \\\\ {0+\\cos \\left(g_{2}\\right) 3}\\end{array}\\right]=\\left[ \\begin{array}{c}{\\frac{2 x}{x^{2}}} \\\\ {3 \\cos (3 x)}\\end{array}\\right]=\\left[ \\begin{array}{c}{\\frac{2}{x}} \\\\ {3 \\cos (3 x)}\\end{array}\\right]\n",
    "$$\n",
    "\n",
    "<u>Using Vector Operations</u>\n",
    "\n",
    "The goal is to convert the following vector of scalar operations to a vector operation:\n",
    "\n",
    "$$\n",
    "\\left[ \\begin{array}{l}{\\frac{\\partial f_{1}}{\\partial g_{1}} \\frac{\\partial g_{1}}{\\partial x}+\\frac{\\partial f_{1}}{\\partial g_{2}} \\frac{\\partial g_{2}}{\\partial x}} \\\\ {\\frac{\\partial f_{2}}{\\partial g_{1}} \\frac{\\partial g_{1}}{\\partial x}+\\frac{\\partial f_{2}}{\\partial g_{2}} \\frac{\\partial g_{2}}{\\partial x}}\\end{array}\\right]\n",
    "$$\n",
    "\n",
    "If we split the $\\frac{\\partial f_{i}}{\\partial g_{j}} \\frac{\\partial g_{j}}{\\partial x}$ terms, isolating the $\\frac{\\partial g_{j}}{\\partial x}$ terms into a vector, we get a matrix by vector multiplication:\n",
    "\n",
    "$$\n",
    "\\left[ \\begin{array}{ll}{\\frac{\\partial f_{1}}{\\partial g_{1}}} & {\\frac{\\partial f_{1}}{\\partial g_{2}}} \\\\ {\\frac{\\partial f_{2}}{\\partial g_{1}}} & {\\frac{\\partial f_{2}}{\\partial g_{2}}}\\end{array}\\right] \\left[ \\begin{array}{l}{\\frac{\\partial g_{1}}{\\partial x}} \\\\ {\\frac{\\partial g_{2}}{\\partial x}}\\end{array}\\right]=\\frac{\\partial \\mathrm{f}}{\\partial \\mathrm{g}} \\frac{\\partial \\mathrm{g}}{\\partial x}\n",
    "$$\n",
    "\n",
    "That means that the Jacobian is the multiplication of two other Jacobians. Let's apply this to our example:\n",
    "\n",
    "$$\n",
    "\\frac{\\partial \\mathrm{f}}{\\partial \\mathrm{g}} \\frac{\\partial \\mathrm{g}}{\\partial x}=\\left[ \\begin{array}{cc}{\\frac{1}{g_{1}}} & {0} \\\\ {0} & {\\cos \\left(g_{2}\\right)}\\end{array}\\right] \\left[ \\begin{array}{c}{2 x} \\\\ {3}\\end{array}\\right]=\\left[ \\begin{array}{c}{\\frac{1}{g_{1}} 2 x+0} \\\\ {0+\\cos \\left(g_{2}\\right) 3}\\end{array}\\right]=\\left[ \\begin{array}{c}{\\frac{2}{x}} \\\\ {3 \\cos (3 x)}\\end{array}\\right]\n",
    "$$\n",
    "\n",
    "Thus, the vector chain rule for vectors of functions and a single parameters is:\n",
    "\n",
    "$$\n",
    "\\frac{\\partial}{\\partial x} \\mathbf{f}(\\mathbf{g}(x))=\\frac{\\partial \\mathbf{f}}{\\partial \\mathbf{g}} \\frac{\\partial \\mathbf{g}}{\\partial x}\n",
    "$$\n",
    "\n",
    "To make this formula work for multiple parameters or vector $\\mathbf{x}$, we just have to change $x$ to vector $\\mathbf{x}$ in the equation. The effect is that $\\frac{\\partial g}{\\partial x}$ and the resulting Jacobian, $\\frac{\\partial \\mathbf{f}}{\\partial \\mathbf{x}}$, are now matrices instead of vertical vectors:\n",
    "\n",
    "$$\n",
    "\\frac{\\partial}{\\partial \\mathbf{x}} \\mathbf{f}(\\mathbf{g}(\\mathbf{x}))=\\frac{\\partial \\mathbf{f}}{\\partial \\mathbf{g}} \\frac{\\partial \\mathbf{g}}{\\partial \\mathbf{x}} = \\left[ \\begin{array}{cccc}{\\frac{\\partial f_{1}}{\\partial g_{1}}} & {\\frac{\\partial f_{1}}{\\partial g_{2}}} & {\\dots} & {\\frac{\\partial f_{1}}{\\partial g_{k}}} \\\\ {\\frac{\\partial f_{2}}{\\partial g_{1}}} & {\\frac{\\partial f_{2}}{\\partial g_{2}}} & {\\dots} & {\\frac{\\partial f_{2}}{\\partial g_{k}}} \\\\ {\\frac{\\partial f_{m}}{\\partial g_{1}}} & {\\frac{\\partial f_{m}}{\\partial g_{2}}} & {\\dots} & {\\frac{\\partial f_{m}}{\\partial g_{k}}}\\end{array}\\right]\\left[ \\begin{array}{cccc}{\\frac{\\partial g_{1}}{\\partial x_{1}}} & {\\frac{\\partial g_{1}}{\\partial x_{2}}} & {\\dots} & {\\frac{\\partial g_{1}}{\\partial x_{n}}} \\\\ {\\frac{\\partial g_{2}}{\\partial x_{1}}} & {\\frac{\\partial g_{2}}{\\partial x_{2}}} & {\\dots} & {\\frac{\\partial g_{2}}{\\partial x_{n}}} \\\\ {\\frac{\\partial g_{k}}{\\partial x_{1}}} & {\\frac{\\partial g_{k}}{\\partial x_{2}}} & {\\dots} & {\\frac{\\partial g_{k}}{\\partial x_{n}}}\\end{array}\\right]\n",
    "$$\n",
    "\n"
   ]
  },
  {
   "cell_type": "markdown",
   "metadata": {},
   "source": [
    "Another way of understanding the chain rule is through computational graphs. Watch this video: https://www.youtube.com/watch?v=mAylIRXHAi4\n",
    "And read this article: https://rishisharma.netlify.app/post/differentiation-dag/"
   ]
  },
  {
   "cell_type": "markdown",
   "metadata": {},
   "source": [
    "### Wrap-Up"
   ]
  },
  {
   "cell_type": "markdown",
   "metadata": {},
   "source": [
    "In this notebook, we learned the underpinning calculus concepts needed to understand and apply machine and deep learning concepts. We gave a brief introduction of activation functions and explained the gradient descent algorithm and its most important hyperparameters. Furthermore, we introduced matrix calculus which is crucial to understand neural networks and machine learning algorithms like gradient boosting, which you will get to know in the program.  \n",
    "\n",
    "In the last pre-work notebook we will look at the make-up of a neural network. Head over there for the last part of this series of notebooks and dive in the world of deep learning!"
   ]
  }
 ],
 "metadata": {
  "kernelspec": {
   "display_name": "Python 3.10.4 64-bit",
   "language": "python",
   "name": "python3"
  },
  "language_info": {
   "codemirror_mode": {
    "name": "ipython",
    "version": 3
   },
   "file_extension": ".py",
   "mimetype": "text/x-python",
   "name": "python",
   "nbconvert_exporter": "python",
   "pygments_lexer": "ipython3",
   "version": "3.10.4"
  },
  "vscode": {
   "interpreter": {
    "hash": "e7370f93d1d0cde622a1f8e1c04877d8463912d04d973331ad4851f04de6915a"
   }
  }
 },
 "nbformat": 4,
 "nbformat_minor": 4
}
