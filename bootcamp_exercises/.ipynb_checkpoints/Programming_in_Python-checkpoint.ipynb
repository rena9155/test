{
 "cells": [
  {
   "cell_type": "markdown",
   "metadata": {},
   "source": [
    "# Programming in Python\n",
    "\n",
    "This series of exercises will help you gain more confidence with your coding and help solidify the needed basic skills. You can download this notebook (from top-left of this page) and perform your exercises directly here. \n",
    "\n",
    "Recommendations:\n",
    "\n",
    "- Start simple. Solve the problem for the simplest scenario and then slowly progress to the harder ones.\n",
    "- Solve each scenario one at a time.\n",
    "- Don't think of the most complicated solution from the beginning, you can always refactor your code after you've solved the problem.\n",
    "- Go through the [Python fundamentals](../../python/notebooks/python-intro.ipynb) before starting this exercise. \n",
    "\n"
   ]
  },
  {
   "cell_type": "markdown",
   "metadata": {},
   "source": [
    "## 1. String Checker\n",
    "\n",
    "Create a function `is_string()` that returns `true` when the parameter passed is a string and `false` otherwise.\n",
    "\n",
    "```python\n",
    "print(is_string('hello'))                    # True\n",
    "print(is_string(['hello']))                  # False\n",
    "print(is_string('this is a long sentence'))  # True\n",
    "```\n"
   ]
  },
  {
   "cell_type": "code",
   "execution_count": null,
   "metadata": {},
   "outputs": [],
   "source": [
    "# your code here"
   ]
  },
  {
   "cell_type": "markdown",
   "metadata": {},
   "source": [
    "## 2. Spaces & Digits\n",
    "\n",
    "Based on the `is_string` function, create another function `is_only_string` that checks if the argument contains spaces and digits. If the argument contains spaces and digits return `false`, if not return `true`.\n",
    "\n",
    "```python\n",
    "print(is_only_string('11'))                       # False\n",
    "print(is_only_string('hello'))                    # True\n",
    "print(is_only_string('this is a long sentence'))  # False\n",
    "```\n"
   ]
  },
  {
   "cell_type": "code",
   "execution_count": 1,
   "metadata": {},
   "outputs": [],
   "source": [
    "# your code here"
   ]
  },
  {
   "cell_type": "markdown",
   "metadata": {},
   "source": [
    "## 3. Number yooo?\n",
    "\n",
    "Create a new function `is_alphanumeric` that returns `true` if all characters in the string are alphanumeric and is not an empty string, `false` otherwise.\n",
    "\n",
    "```python\n",
    "print(is_alphanumeric('11'))                       # True\n",
    "print(is_alphanumeric(['hello']))                  # False\n",
    "print(is_alphanumeric('this is a long sentence'))  # False\n",
    "print(is_alphanumeric(\"this is string....!!!\"))    # False\n",
    "```\n"
   ]
  },
  {
   "cell_type": "code",
   "execution_count": 2,
   "metadata": {},
   "outputs": [],
   "source": [
    "# your code here"
   ]
  },
  {
   "cell_type": "markdown",
   "metadata": {},
   "source": [
    "## 4. Same Type\n",
    "\n",
    "Create a function that checks whether all the element of a list are the same data type. If they are the same return `true` otherwise return `false`.\n",
    "\n",
    "```python\n",
    "print(are_same_type(['hello', 'world', 'long sentence']))  # True\n",
    "print(are_same_type([1, 2, 9, 10]))                        # True\n",
    "print(are_same_type([1, 2, 9, 'hello']))                   # False\n",
    "```\n",
    "\n"
   ]
  },
  {
   "cell_type": "code",
   "execution_count": 3,
   "metadata": {},
   "outputs": [],
   "source": [
    "# your code here"
   ]
  },
  {
   "cell_type": "markdown",
   "metadata": {},
   "source": [
    "## 5. Sort and Remove Duplicates\n",
    "\n",
    "You are given 2 strings, a and b, that only includes letters from a to z. Create a function which returns a new string that only contains each letter from a and/or b once. Your output must be sorted.\n",
    "\n",
    "```python\n",
    "a = 'xyaabbbccccdefww'\n",
    "b = 'xxxxyyyyabklmopq'\n",
    "x = 'abcdefghijklmnopqrstuvwxyz'\n",
    "print(intersection(a, b))  # abcdefklmopqwxy\n",
    "print(intersection(a, x))  # abcdefghijklmnopqrstuvwxyz\n",
    "```\n"
   ]
  },
  {
   "cell_type": "code",
   "execution_count": null,
   "metadata": {},
   "outputs": [],
   "source": [
    "# your code here"
   ]
  },
  {
   "cell_type": "markdown",
   "metadata": {},
   "source": [
    "## 6. Digits Converter\n",
    "\n",
    "Create a function that takes a random number and converts it to a reverse-sorted list of digits.\n",
    "\n",
    "```python\n",
    "print(convert(429563))  # [9, 6, 5, 4, 3, 2]\n",
    "print(convert(324))     # [4, 3, 2]\n",
    "```\n"
   ]
  },
  {
   "cell_type": "code",
   "execution_count": null,
   "metadata": {},
   "outputs": [],
   "source": [
    "# your code here"
   ]
  },
  {
   "cell_type": "markdown",
   "metadata": {},
   "source": [
    "## 7. Count Repetitions!\n",
    "\n",
    "You are given a list of strings. Create a function that counts the number of times each string occurs and keeps track of it in a dict. DO NOT USE `COUNTER` from `Collections` module (that would be cheating 😁)\n",
    "\n",
    "```python\n",
    "names = ['kerouac', 'fante', 'fante', 'buk', 'hemingway', 'hornby', 'kerouac', 'buk', 'fante']\n",
    "print(count_repetition(names))\n",
    "\n",
    "# 'kerouac'= 2\n",
    "# 'fante'= 3\n",
    "# 'buk'= 2\n",
    "# 'hemingway'= 1\n",
    "# 'hornby'= 1}\n",
    "\n",
    "```"
   ]
  },
  {
   "cell_type": "code",
   "execution_count": null,
   "metadata": {},
   "outputs": [],
   "source": [
    "# your code here"
   ]
  },
  {
   "cell_type": "markdown",
   "metadata": {},
   "source": [
    "## 8. Letter Counter\n",
    "\n",
    "Write a function that accepts a sentence and calculates the number of upper case letters and lower case letters. Use the input function providing the sentence from the console.\n",
    "\n",
    "```python\n",
    "letter_counter()\n",
    "\n",
    "# Hello World!\n",
    "# UPPER CASE 2\n",
    "# LOWER CASE 8\n",
    "```\n"
   ]
  },
  {
   "cell_type": "code",
   "execution_count": null,
   "metadata": {},
   "outputs": [],
   "source": [
    "# your code here"
   ]
  },
  {
   "cell_type": "markdown",
   "metadata": {},
   "source": [
    "## 9. Permutations\n",
    "\n",
    "Create a function which returns all possible permutations from a given collection of distinct numbers\n",
    "\n",
    "**Note**: \n",
    "\n",
    " - The concept of permutations will appear in the course. Since it is a complex task, it is totally valid to  get the inspiration from StackOverflow.   \n",
    " - It is not necessary to make the most efficient algorithm but try to understand the code and repeat the approach yourself. \n",
    " - Add the source and/or comment to your code for better understandability.\n",
    "\n",
    "\n",
    "```python\n",
    "print(permute([1, 2, 3])) # [[3, 2, 1], [2, 3, 1], [2, 1, 3], [3, 1, 2], [1, 3, 2], [1, 2, 3]]\n",
    "```"
   ]
  },
  {
   "cell_type": "code",
   "execution_count": null,
   "metadata": {},
   "outputs": [],
   "source": [
    "# your code here"
   ]
  }
 ],
 "metadata": {
  "kernelspec": {
   "display_name": "Python 3",
   "language": "python",
   "name": "python3"
  },
  "language_info": {
   "codemirror_mode": {
    "name": "ipython",
    "version": 3
   },
   "file_extension": ".py",
   "mimetype": "text/x-python",
   "name": "python",
   "nbconvert_exporter": "python",
   "pygments_lexer": "ipython3",
   "version": "3.7.4"
  }
 },
 "nbformat": 4,
 "nbformat_minor": 4
}
